{
  "nbformat": 4,
  "nbformat_minor": 0,
  "metadata": {
    "colab": {
      "provenance": []
    },
    "kernelspec": {
      "name": "python3",
      "display_name": "Python 3"
    },
    "language_info": {
      "name": "python"
    }
  },
  "cells": [
    {
      "cell_type": "code",
      "execution_count": null,
      "metadata": {
        "colab": {
          "base_uri": "https://localhost:8080/"
        },
        "id": "n26K2ZAkwolL",
        "outputId": "d0d2dd91-a12d-4616-c3ab-7ec162791b1d"
      },
      "outputs": [
        {
          "output_type": "stream",
          "name": "stdout",
          "text": [
            "Mounted at /content/drive\n"
          ]
        }
      ],
      "source": [
        "from google.colab import drive\n",
        "drive.mount('/content/drive')"
      ]
    },
    {
      "cell_type": "code",
      "source": [
        "import pandas as pd\n",
        "import re"
      ],
      "metadata": {
        "id": "DsfFQ171xU4K"
      },
      "execution_count": null,
      "outputs": []
    },
    {
      "cell_type": "code",
      "source": [
        "df = pd.read_csv('/content/drive/MyDrive/Tugas/Penalaran Komputer/Tugas UAS/Data CSV/putusan_ma__2025-06-20.csv')\n",
        "df"
      ],
      "metadata": {
        "id": "MOOFEADP9L5S"
      },
      "execution_count": null,
      "outputs": []
    },
    {
      "cell_type": "code",
      "source": [
        "df = df.drop_duplicates()\n",
        "df"
      ],
      "metadata": {
        "id": "XNgWq0e_9ODO"
      },
      "execution_count": null,
      "outputs": []
    },
    {
      "cell_type": "code",
      "source": [
        "columns_to_drop = [\n",
        "    'link', 'link_pdf', 'file_name_pdf', 'text_pdf' # bisa disesuaikan dengan kebutuhan\n",
        "]\n",
        "df = df.drop(columns=columns_to_drop)\n",
        "df"
      ],
      "metadata": {
        "id": "-fGzH97l9abc"
      },
      "execution_count": null,
      "outputs": []
    },
    {
      "cell_type": "code",
      "source": [
        "# bisa ditambahkan fungsi preprocessing yang lain\n",
        "\n",
        "def preprocess_text(text):\n",
        "    if pd.isna(text):\n",
        "        return \"\"\n",
        "    text = text.lower()\n",
        "    text = re.sub(r'm\\s*e\\s*n\\s*g\\s*a\\s*d\\s*i\\s*l\\s*i\\s*:?', '', text)\n",
        "    text = re.sub(r'[^a-z0-9\\s]', '', text)\n",
        "    return text.strip()\n",
        "\n",
        "df['catatan_amar'] = df['catatan_amar'].apply(preprocess_text)\n",
        "df"
      ],
      "metadata": {
        "id": "wmkuEbov4FTa"
      },
      "execution_count": null,
      "outputs": []
    },
    {
      "cell_type": "code",
      "source": [
        "def extract_keadaan(text):\n",
        "    if pd.isna(text):\n",
        "        return \"\"\n",
        "    match = re.search(r'(menyatakan bersalah[^.,;]*)', text, re.IGNORECASE)\n",
        "    return match.group(1).strip() if match else \"\"\n",
        "\n",
        "df['status_keadaan'] = df['catatan_amar'].apply(extract_keadaan)\n",
        "\n",
        "df[['catatan_amar', 'status_keadaan']].head()"
      ],
      "metadata": {
        "id": "KfUEb0cT4Oi4"
      },
      "execution_count": null,
      "outputs": []
    },
    {
      "cell_type": "code",
      "source": [
        "output_path = \"/content/drive/MyDrive/Tugas/Penalaran Komputer/Tugas UAS/putusan_ma_ekstraksi.csv\"\n",
        "df.to_csv(output_path, index=False)"
      ],
      "metadata": {
        "id": "Kc-jMl4w6ldS"
      },
      "execution_count": null,
      "outputs": []
    }
  ]
}